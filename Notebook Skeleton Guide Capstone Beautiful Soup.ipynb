{
 "cells": [
  {
   "cell_type": "markdown",
   "metadata": {},
   "source": [
    "# Capstone Webscrapping using BeautifulSoup\n",
    "\n",
    "This notebook contains guidances & tasks on the data processing for the application\n",
    "\n",
    "## background\n",
    "\n",
    "Pada tahun 2021 coin Ethereum menjadi sorotan oleh banyak orang. Hal ini dikarenakan harga coin tersebut semakin hari semakin tinggi. Selain itu, coin Ethereum juga bisa di mining dengan perangkat komputer yang sudah di modifikasi untuk melakukan proses mining coin tersebut. Hal ini membuat beberapa orang tertarik untuk melakukan investasi ke coin Ethereum. \n",
    "\n",
    "Namun sebelum melakukan investasi, kita perlu melakukan analisa terkait volume coin Ethereum di bulan Mei 2021 dan Juni 2021 agar keputusan investasi yang diambil tidak salah\n",
    "\n",
    "## Requesting the Data and Creating a BeautifulSoup\n",
    "\n",
    "Let's begin with requesting the web from the site with `get` method."
   ]
  },
  {
   "cell_type": "code",
   "execution_count": 1,
   "metadata": {},
   "outputs": [],
   "source": [
    "#Mengambil data table dari situs coingecko\n",
    "import requests\n",
    "url = 'https://www.coingecko.com/en/coins/ethereum/historical_data/?start_date=2020-01-01&end_date=2021-06-30' \n",
    "url_get = requests.get(url,  headers = { 'User-Agent': 'Popular browser\\'s user-agent', })"
   ]
  },
  {
   "cell_type": "markdown",
   "metadata": {},
   "source": [
    "To visualize what exactly you get from the `request.get`, we can use .content so ee what we exactly get, in here i slice it so it won't make our screen full of the html we get from the page. You can delete the slicing if you want to see what we fully get."
   ]
  },
  {
   "cell_type": "code",
   "execution_count": 2,
   "metadata": {
    "ExecuteTime": {
     "end_time": "2020-01-13T05:12:23.290648Z",
     "start_time": "2020-01-13T05:12:23.277650Z"
    }
   },
   "outputs": [
    {
     "data": {
      "text/plain": [
       "b'!DOCTYPE html>\\n<html lang=\"en\">\\n<head>\\n<script src=\"/cdn-cgi/apps/head/gYtXOyllgyP3-Z2iKTP8rRWGBm4.js\"></script><script async defer src=\"https://www.googleoptimize.com/optimize.js?id=GTM-W3CD992\"></script>\\n<meta charset=\"utf-8\">\\n<meta http-equiv=\"X-UA-Compatible\" content=\"IE=edge\">\\n<meta name=\"viewport\" content=\"width=device-width, initial-scale=1.0\">\\n<link rel=\"shortcut icon\" href=\"/favicon.ico\">\\n<link type=\"application/opensearchdescription+xml\" rel=\"search\" href=\"/OpensearchDescription.xml\" '"
      ]
     },
     "execution_count": 2,
     "metadata": {},
     "output_type": "execute_result"
    }
   ],
   "source": [
    "#Melihat isi dari link tersebut sebanyak 500 karakter dimulai dari awal\n",
    "url_get.content[1:500]"
   ]
  },
  {
   "cell_type": "markdown",
   "metadata": {},
   "source": [
    "As we can see we get a very unstructured and complex html, which actually contains the codes needed to show the webpages on your web browser. But we as human still confused what and where we can use that piece of code, so here where we use the beautifulsoup. Beautiful soup class will result a beautifulsoup object. Beautiful Soup transforms a complex HTML document into a complex tree of Python objects. \n",
    "\n",
    "Let's make Beautiful soup object and feel free to explore the object here."
   ]
  },
  {
   "cell_type": "code",
   "execution_count": 3,
   "metadata": {
    "ExecuteTime": {
     "end_time": "2020-01-13T05:12:23.808122Z",
     "start_time": "2020-01-13T05:12:23.292610Z"
    }
   },
   "outputs": [],
   "source": [
    "#Melakukan import library BeautifulSoup\n",
    "#Kemudian menerapkan fitur BeautifulSoup ke link coingecko\n",
    "from bs4 import BeautifulSoup \n",
    "soup = BeautifulSoup(url_get.content,\"html.parser\")"
   ]
  },
  {
   "cell_type": "code",
   "execution_count": 4,
   "metadata": {},
   "outputs": [
    {
     "name": "stdout",
     "output_type": "stream",
     "text": [
      "<!DOCTYPE html>\n",
      "<html lang=\"en\">\n",
      " <head>\n",
      "  <script src=\"/cdn-cgi/apps/head/gYtXOyllgyP3-Z2iKTP8rRWGBm4.js\">\n",
      "  </script>\n",
      "  <script async=\"\" defer=\"\" src=\"https://www.googleoptimize.com/optimize.js?id=GTM-W3CD992\">\n",
      "  </script>\n",
      "  <meta charset=\"utf-8\"/>\n",
      "  <meta content=\"IE=edge\" http-equiv=\"X-UA-Compatible\"/>\n",
      "  <meta content=\"width=device-width, initial-scale=1.0\" name=\"viewport\"/>\n",
      "  <link href=\"/favicon.ico\" rel=\"shortcut icon\"/>\n",
      "  <link href=\"/OpensearchDescription.xml\" rel=\"search\" type=\"applica\n"
     ]
    }
   ],
   "source": [
    "#Melihat isi dari url dengan lebih rapi\n",
    "print(soup.prettify()[:500])"
   ]
  },
  {
   "cell_type": "markdown",
   "metadata": {},
   "source": [
    "## Finding the right key to scrap the data & Extracting the right information"
   ]
  },
  {
   "cell_type": "markdown",
   "metadata": {},
   "source": [
    "Find the key and put the key into the `.find()` Put all the exploring the right key at this cell. (please change this markdown with your explanation)"
   ]
  },
  {
   "cell_type": "code",
   "execution_count": 5,
   "metadata": {
    "ExecuteTime": {
     "end_time": "2020-01-13T05:12:23.878904Z",
     "start_time": "2020-01-13T05:12:23.854974Z"
    },
    "scrolled": true
   },
   "outputs": [
    {
     "name": "stdout",
     "output_type": "stream",
     "text": [
      "table class=\"table table-striped text-sm text-lg-normal\">\n",
      " <thead>\n",
      "  <tr>\n",
      "   <th class=\"text-center\">\n",
      "    Date\n",
      "   </th>\n",
      "   <th class=\"text-center\">\n",
      "    Market Cap\n",
      "   </th>\n",
      "   <th class=\"text-center\">\n",
      "    Volume\n",
      "   </th>\n",
      "   <th class=\"text-center\">\n",
      "    Open\n",
      "   </th>\n",
      "   <th class=\"text-center\">\n",
      "    Close\n",
      "   </th>\n",
      "  </tr>\n",
      " </thead>\n",
      " <tbody>\n",
      "  <tr>\n",
      "   <th class=\"font-semibold text-center\" scope=\"row\">\n",
      "    2021-06-30\n",
      "   </th>\n",
      "   <td class=\"text-center\">\n",
      "    $253,607,549,372\n",
      "   </td>\n",
      "   <td class=\"te\n"
     ]
    }
   ],
   "source": [
    "#Mengambil kata kunci untuk mendapatkan data table di url kemudian melakukan print untuk melihat pola\n",
    "table = soup.find('table', attrs={'class':'table table-striped text-sm text-lg-normal'})\n",
    "print(table.prettify()[1:500])"
   ]
  },
  {
   "cell_type": "code",
   "execution_count": 6,
   "metadata": {},
   "outputs": [
    {
     "data": {
      "text/plain": [
       "'2021-06-30'"
      ]
     },
     "execution_count": 6,
     "metadata": {},
     "output_type": "execute_result"
    }
   ],
   "source": [
    "#Dari hasil print diatas, ditemukan bahwa data tanggal berada di class \"font-semibold...\"\n",
    "#Kemudian melakukan percobaan find_all dengan atribute tersebut untuk mengambil data tanggal\n",
    "test = table.find_all('th', attrs={'class':'font-semibold text-center'})[0].text\n",
    "test"
   ]
  },
  {
   "cell_type": "code",
   "execution_count": 7,
   "metadata": {},
   "outputs": [
    {
     "data": {
      "text/plain": [
       "60"
      ]
     },
     "execution_count": 7,
     "metadata": {},
     "output_type": "execute_result"
    }
   ],
   "source": [
    "#Setelah diketahui bahwa kata kunci untuk mengambil data tanggal sudah benar, maka \n",
    "#selanjutnya mencoba untuk menghitung row\n",
    "row = table.find_all('th', attrs={'class':'font-semibold text-center'})\n",
    "row_length = len(row)\n",
    "row_length"
   ]
  },
  {
   "cell_type": "markdown",
   "metadata": {},
   "source": [
    "Do the scrapping process here (please change this markdown with your explanation)"
   ]
  },
  {
   "cell_type": "code",
   "execution_count": 8,
   "metadata": {
    "ExecuteTime": {
     "end_time": "2020-01-13T05:12:24.008256Z",
     "start_time": "2020-01-13T05:12:23.980358Z"
    }
   },
   "outputs": [
    {
     "data": {
      "text/plain": [
       "[('2021-06-30', '$27,149,143,847'),\n",
       " ('2021-06-29', '$30,629,329,806'),\n",
       " ('2021-06-28', '$24,316,408,028'),\n",
       " ('2021-06-27', '$24,249,510,321'),\n",
       " ('2021-06-26', '$25,981,381,067'),\n",
       " ('2021-06-25', '$22,447,489,242'),\n",
       " ('2021-06-24', '$28,098,744,045'),\n",
       " ('2021-06-23', '$38,755,019,937'),\n",
       " ('2021-06-22', '$39,499,960,408'),\n",
       " ('2021-06-21', '$26,235,850,447'),\n",
       " ('2021-06-20', '$20,456,963,375'),\n",
       " ('2021-06-19', '$26,204,484,921'),\n",
       " ('2021-06-18', '$25,708,624,827'),\n",
       " ('2021-06-17', '$26,150,320,395'),\n",
       " ('2021-06-16', '$26,803,957,680'),\n",
       " ('2021-06-15', '$28,128,172,338'),\n",
       " ('2021-06-14', '$29,382,118,964'),\n",
       " ('2021-06-13', '$28,235,882,062'),\n",
       " ('2021-06-12', '$26,751,786,966'),\n",
       " ('2021-06-11', '$33,075,957,437'),\n",
       " ('2021-06-10', '$43,973,432,438'),\n",
       " ('2021-06-09', '$48,344,195,674'),\n",
       " ('2021-06-08', '$37,385,872,210'),\n",
       " ('2021-06-07', '$29,050,162,249'),\n",
       " ('2021-06-06', '$34,731,979,705'),\n",
       " ('2021-06-05', '$39,996,583,175'),\n",
       " ('2021-06-04', '$38,104,663,185'),\n",
       " ('2021-06-03', '$39,148,856,525'),\n",
       " ('2021-06-02', '$39,898,648,753'),\n",
       " ('2021-06-01', '$44,445,830,388'),\n",
       " ('2021-05-31', '$37,392,021,394'),\n",
       " ('2021-05-30', '$47,141,249,182'),\n",
       " ('2021-05-29', '$49,493,519,120'),\n",
       " ('2021-05-28', '$44,070,236,220'),\n",
       " ('2021-05-27', '$53,115,222,705'),\n",
       " ('2021-05-26', '$92,468,701,274'),\n",
       " ('2021-05-25', '$73,496,058,831'),\n",
       " ('2021-05-24', '$77,839,858,614'),\n",
       " ('2021-05-23', '$102,524,751,568'),\n",
       " ('2021-05-22', '$115,000,901,892'),\n",
       " ('2021-05-21', '$92,538,167,828'),\n",
       " ('2021-05-20', '$117,905,041,184'),\n",
       " ('2021-05-19', '$59,160,464,538'),\n",
       " ('2021-05-18', '$75,100,584,776'),\n",
       " ('2021-05-17', '$67,531,308,124'),\n",
       " ('2021-05-16', '$58,150,860,876'),\n",
       " ('2021-05-15', '$63,587,729,060'),\n",
       " ('2021-05-14', '$97,383,442,023'),\n",
       " ('2021-05-13', '$78,772,032,255'),\n",
       " ('2021-05-12', '$67,869,198,116'),\n",
       " ('2021-05-11', '$80,827,215,918'),\n",
       " ('2021-05-10', '$61,625,657,297'),\n",
       " ('2021-05-09', '$60,174,921,874'),\n",
       " ('2021-05-08', '$44,980,768,421'),\n",
       " ('2021-05-07', '$50,430,169,753'),\n",
       " ('2021-05-06', '$63,552,342,594'),\n",
       " ('2021-05-05', '$78,437,235,046'),\n",
       " ('2021-05-04', '$64,192,650,586'),\n",
       " ('2021-05-03', '$35,727,432,416'),\n",
       " ('2021-05-02', '$36,721,647,718')]"
      ]
     },
     "execution_count": 8,
     "metadata": {},
     "output_type": "execute_result"
    }
   ],
   "source": [
    "#Membuat list kosong dengan nama temp\n",
    "temp = [] \n",
    "\n",
    "#Melakukan pengulangan variable i dimulai dengan 0 sampai 60. Angka 60 diperoleh dari perhitungan\n",
    "#jumlah data dari row_length yang sudah dilakukan sebelumnya\n",
    "for i in range(0, row_length):\n",
    "\n",
    "    #Mengambil data tanggal\n",
    "    Date = table.find_all('th', attrs={'class':'font-semibold text-center'})[i].text\n",
    "    \n",
    "    #Mengambil data volume, namun dengan cara tertentu karena kata kunci yang digunakan oleh kolom\n",
    "    #market cap, volume, open & close sama yaitu \"text-center\".\n",
    "    #1 + i*4 adalah subsetting untuk mengambil angka volume saja\n",
    "    volume = table.find_all('td', attrs={'class':'text-center'})[1 + i*4].text\n",
    "    volume = volume.strip() #menghapus karakter blank\n",
    "    \n",
    "    #Menggabungkan data Date & volume dalam satu data frame\n",
    "    temp.append((Date,volume))\n",
    "\n",
    "#Menampilkan data Temp\n",
    "temp"
   ]
  },
  {
   "cell_type": "markdown",
   "metadata": {},
   "source": [
    "## Creating data frame & Data wrangling"
   ]
  },
  {
   "cell_type": "markdown",
   "metadata": {},
   "source": [
    "Put the array into dataframe"
   ]
  },
  {
   "cell_type": "code",
   "execution_count": 9,
   "metadata": {
    "ExecuteTime": {
     "end_time": "2020-01-13T05:12:41.517372Z",
     "start_time": "2020-01-13T05:12:29.130015Z"
    }
   },
   "outputs": [
    {
     "data": {
      "text/html": [
       "<div>\n",
       "<style scoped>\n",
       "    .dataframe tbody tr th:only-of-type {\n",
       "        vertical-align: middle;\n",
       "    }\n",
       "\n",
       "    .dataframe tbody tr th {\n",
       "        vertical-align: top;\n",
       "    }\n",
       "\n",
       "    .dataframe thead th {\n",
       "        text-align: right;\n",
       "    }\n",
       "</style>\n",
       "<table border=\"1\" class=\"dataframe\">\n",
       "  <thead>\n",
       "    <tr style=\"text-align: right;\">\n",
       "      <th></th>\n",
       "      <th>Date</th>\n",
       "      <th>volume</th>\n",
       "    </tr>\n",
       "  </thead>\n",
       "  <tbody>\n",
       "    <tr>\n",
       "      <th>0</th>\n",
       "      <td>2021-06-30</td>\n",
       "      <td>$27,149,143,847</td>\n",
       "    </tr>\n",
       "    <tr>\n",
       "      <th>1</th>\n",
       "      <td>2021-06-29</td>\n",
       "      <td>$30,629,329,806</td>\n",
       "    </tr>\n",
       "    <tr>\n",
       "      <th>2</th>\n",
       "      <td>2021-06-28</td>\n",
       "      <td>$24,316,408,028</td>\n",
       "    </tr>\n",
       "    <tr>\n",
       "      <th>3</th>\n",
       "      <td>2021-06-27</td>\n",
       "      <td>$24,249,510,321</td>\n",
       "    </tr>\n",
       "    <tr>\n",
       "      <th>4</th>\n",
       "      <td>2021-06-26</td>\n",
       "      <td>$25,981,381,067</td>\n",
       "    </tr>\n",
       "  </tbody>\n",
       "</table>\n",
       "</div>"
      ],
      "text/plain": [
       "         Date           volume\n",
       "0  2021-06-30  $27,149,143,847\n",
       "1  2021-06-29  $30,629,329,806\n",
       "2  2021-06-28  $24,316,408,028\n",
       "3  2021-06-27  $24,249,510,321\n",
       "4  2021-06-26  $25,981,381,067"
      ]
     },
     "execution_count": 9,
     "metadata": {},
     "output_type": "execute_result"
    }
   ],
   "source": [
    "#Mengambil library pandas\n",
    "import pandas as pd\n",
    "\n",
    "#Memasukkan data temp ke dalam dataframe df\n",
    "df = pd.DataFrame(temp, columns = ('Date','volume'))\n",
    "df.head()"
   ]
  },
  {
   "cell_type": "markdown",
   "metadata": {},
   "source": [
    "Do the data cleaning here (please change this markdown with your explanation of what you do for data wrangling)"
   ]
  },
  {
   "cell_type": "code",
   "execution_count": 10,
   "metadata": {},
   "outputs": [
    {
     "name": "stderr",
     "output_type": "stream",
     "text": [
      "C:\\Users\\Febrianto\\AppData\\Local\\Temp\\ipykernel_7652\\1357024947.py:3: FutureWarning: The default value of regex will change from True to False in a future version. In addition, single character regular expressions will *not* be treated as literal strings when regex=True.\n",
      "  df['volume'] = df['volume'].str.replace(\"$\",\"\") #Menghilangkan karakter dollar\n"
     ]
    }
   ],
   "source": [
    "df['Date'] = pd.to_datetime(df['Date'], format = '%Y-%m-%d') #Mengubah menjadi format tanggal\n",
    "df['volume'] = df['volume'].str.replace(\",\",\"\") #Menghilangkan karakter koma\n",
    "df['volume'] = df['volume'].str.replace(\"$\",\"\") #Menghilangkan karakter dollar\n",
    "df['volume'] = df['volume'].astype('int64') #Mengubah menjadi type data integer"
   ]
  },
  {
   "cell_type": "code",
   "execution_count": 11,
   "metadata": {},
   "outputs": [
    {
     "data": {
      "text/plain": [
       "Date      datetime64[ns]\n",
       "volume             int64\n",
       "dtype: object"
      ]
     },
     "execution_count": 11,
     "metadata": {},
     "output_type": "execute_result"
    }
   ],
   "source": [
    "#Memastikan bahwa format masing-masing kolom sudah sesuai\n",
    "df.dtypes"
   ]
  },
  {
   "cell_type": "code",
   "execution_count": 12,
   "metadata": {
    "ExecuteTime": {
     "end_time": "2020-01-13T05:12:59.165559Z",
     "start_time": "2020-01-13T05:12:58.910012Z"
    }
   },
   "outputs": [],
   "source": [
    "#Mengubah kolom date menjadi index\n",
    "df = df.set_index('Date')"
   ]
  },
  {
   "cell_type": "markdown",
   "metadata": {},
   "source": [
    "Data visualisation (please change this markdown with your explanation of what you do for data wrangling)"
   ]
  },
  {
   "cell_type": "code",
   "execution_count": 13,
   "metadata": {},
   "outputs": [
    {
     "data": {
      "text/plain": [
       "<AxesSubplot:xlabel='Date'>"
      ]
     },
     "execution_count": 13,
     "metadata": {},
     "output_type": "execute_result"
    },
    {
     "data": {
      "image/png": "[encoded data removed]",
      "text/plain": [
       "<Figure size 640x480 with 1 Axes>"
      ]
     },
     "metadata": {},
     "output_type": "display_data"
    }
   ],
   "source": [
    "#Memvisualisasikan data ke dalam bentuk line chart\n",
    "df.plot()"
   ]
  },
  {
   "cell_type": "markdown",
   "metadata": {},
   "source": [
    "### Implementing your webscrapping to the flask dashboard\n",
    "\n",
    "- Copy paste all of your web scrapping process to the desired position on the `app.py`\n",
    "- Changing the title of the dasboard at `index.html`"
   ]
  },
  {
   "cell_type": "markdown",
   "metadata": {},
   "source": [
    "## Finishing This Notebook with Your Analysis and Conclusion\n",
    "\n",
    "First you can do start with making the data visualisation. "
   ]
  },
  {
   "cell_type": "markdown",
   "metadata": {},
   "source": [
    "(Put your analysis and conclusion here.)\n",
    "- Volume coin Ethereum pada bulan Mei 2021 cenderung lebih tinggi dibanding dengan bulan Juni 2021\n",
    "- Volume coin Ethereum di bulan Juni 2021 cenderung menurun\n",
    "- Volume coin Ethereum di bulan Mei 2021 sangat fluktuatif dibandingkan dengan bulan Juni 2021\n"
   ]
  },
  {
   "cell_type": "markdown",
   "metadata": {},
   "source": [
    "### Extra Challange\n",
    "\n",
    "This will be not included to the scoring. \n",
    "\n",
    "- You can create additional analysis from the data.\n",
    "- Implement it to the dashboard with at `app.py` dan `index.html`."
   ]
  }
 ],
 "metadata": {
  "kernelspec": {
   "display_name": "Capstone_1",
   "language": "python",
   "name": "capstone_1"
  },
  "language_info": {
   "codemirror_mode": {
    "name": "ipython",
    "version": 3
   },
   "file_extension": ".py",
   "mimetype": "text/x-python",
   "name": "python",
   "nbconvert_exporter": "python",
   "pygments_lexer": "ipython3",
   "version": "3.10.8"
  }
 },
 "nbformat": 4,
 "nbformat_minor": 2
}
